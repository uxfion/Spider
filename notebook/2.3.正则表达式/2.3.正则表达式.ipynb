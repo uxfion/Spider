{
 "cells": [
  {
   "cell_type": "markdown",
   "source": [
    "# 正则表达式\n",
    "\n",
    "实现字符串的检索、替换、匹配\n",
    "\n",
    "## 1.实例引入\n",
    "\n",
    "开源中国提供的[正则表达式测试工具](https://tool.oschina.net/regex)"
   ],
   "metadata": {
    "collapsed": false
   }
  },
  {
   "cell_type": "code",
   "execution_count": null,
   "metadata": {
    "collapsed": true
   },
   "outputs": [],
   "source": []
  }
 ],
 "metadata": {
  "kernelspec": {
   "display_name": "Python 3",
   "language": "python",
   "name": "python3"
  },
  "language_info": {
   "codemirror_mode": {
    "name": "ipython",
    "version": 2
   },
   "file_extension": ".py",
   "mimetype": "text/x-python",
   "name": "python",
   "nbconvert_exporter": "python",
   "pygments_lexer": "ipython2",
   "version": "2.7.6"
  }
 },
 "nbformat": 4,
 "nbformat_minor": 0
}