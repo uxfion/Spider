{
 "cells": [
  {
   "cell_type": "markdown",
   "metadata": {},
   "source": [
    "# 正则表达式\n",
    "\n",
    "实现字符串的检索、替换、匹配\n",
    "\n",
    "## 1.实例引入\n",
    "\n",
    "开源中国提供的[正则表达式测试工具](https://tool.oschina.net/regex)\n",
    "\n",
    "`[a-zA-z]+://[^\\s]*`可以匹配URL\n",
    "\n",
    "| 模式 | 描述 |\n",
    "|:-:|:-:|\n",
    "| `\\w` | 字母、数字及下划线 |\n",
    "| `\\W` | 非\\w |\n",
    "| `\\s` | 任意空白字符，等价于[\\t\\n\\r\\f] |\n",
    "| `\\S` | 非空字符 |\n",
    "| `\\d` | 数字 |\n",
    "| `\\D` | 非数字 |\n",
    "| `\\A` | 字符串开头 |\n",
    "| `\\Z` | 字符串结尾，换行前的字符 |\n",
    "| `\\z` | 字符串结尾，包括换行符 |\n",
    "| `\\G` | 最后匹配完成的位置 |\n",
    "| `\\n` | 换行符 |\n",
    "| `\\t` | 制表符 |\n",
    "| `^` | 行开头 |\n",
    "| `$` | 行结尾 |\n",
    "| `.` | 任意字符，除了换行符 |\n",
    "|  |  |\n",
    "| `*` | 0个或多个前面表达式 |\n",
    "| `+` | 1个或多个前面表达式 |\n",
    "| `?` | 0个或1个前面表达式，非贪婪 |\n",
    "| `{n}` | n个前面表达式 |\n",
    "| `{n, m}` | n到m次前面表达式，贪婪 |\n",
    "| `a|b` | a或b |\n",
    "|  |  |\n",
    "\n",
    "\n",
    "## 2.match\n",
    "\n",
    "这里介绍第一个常用的匹配方法——match，向它传入要匹配的字符串以及正则表达式，就可以检测这个正则表达式是否和字符串相匹配。"
   ]
  },
  {
   "cell_type": "code",
   "execution_count": 4,
   "metadata": {
    "collapsed": true,
    "pycharm": {
     "name": "#%%\n"
    }
   },
   "outputs": [
    {
     "name": "stdout",
     "output_type": "stream",
     "text": [
      "41\n",
      "<re.Match object; span=(0, 25), match='Hello 123 4567 World_This'>\n",
      "Hello 123 4567 World_This\n",
      "(0, 25)\n"
     ]
    }
   ],
   "source": [
    "import re\n",
    "\n",
    "content = 'Hello 123 4567 World_This is a Regex Demo'\n",
    "print(len(content))\n",
    "result = re.match('^Hello\\s\\d\\d\\d\\s\\d{4}\\s\\w{10}', content)\n",
    "print(result)\n",
    "print(result.group())\n",
    "print(result.span())"
   ]
  },
  {
   "cell_type": "markdown",
   "source": [
    "### 匹配目标\n",
    "\n",
    "用match放法可以实现匹配，如果想从字符串中提取一部分，可以使用括号"
   ],
   "metadata": {
    "collapsed": false
   }
  },
  {
   "cell_type": "code",
   "execution_count": 16,
   "outputs": [
    {
     "name": "stdout",
     "output_type": "stream",
     "text": [
      "<re.Match object; span=(0, 19), match='Hello 1234567 World'>\n",
      "Hello 1234567 World\n",
      "1234567\n",
      "(0, 19)\n"
     ]
    }
   ],
   "source": [
    "import re\n",
    "\n",
    "content = 'Hello 1234567 World_This is a Regex Demo'\n",
    "result = re.match('^Hello\\s(\\d+)\\sWorld', content)\n",
    "print(result)\n",
    "print(result.group())\n",
    "print(result.group(1))\n",
    "print(result.span())"
   ],
   "metadata": {
    "collapsed": false,
    "pycharm": {
     "name": "#%%\n"
    }
   }
  },
  {
   "cell_type": "markdown",
   "source": [
    "`group()`输出完整的匹配结果，`group(1)`输出第1个被()包括的匹配结果，以此类推。\n",
    "\n",
    "### 通用匹配\n",
    "\n",
    "刚才这样的工作量非常大。其实完全没必要这么做，因为还有一个万能匹配可以用，就是`.*`。`.`匹配任意字符（除换行符外），`*`匹配0次或多次，所以它们组合起来就可以匹配任意字符了。接上面例子，我们用`.*`改写一下上面例子。"
   ],
   "metadata": {
    "collapsed": false
   }
  },
  {
   "cell_type": "code",
   "execution_count": 17,
   "outputs": [
    {
     "name": "stdout",
     "output_type": "stream",
     "text": [
      "<re.Match object; span=(0, 41), match='Hello 123 4567 World_This is a Regex Demo'>\n",
      "Hello 123 4567 World_This is a Regex Demo\n",
      "(0, 41)\n"
     ]
    }
   ],
   "source": [
    "import re\n",
    "\n",
    "content = 'Hello 123 4567 World_This is a Regex Demo'\n",
    "result = re.match('^Hello.*Demo$', content)\n",
    "print(result)\n",
    "print(result.group())\n",
    "print(result.span())"
   ],
   "metadata": {
    "collapsed": false,
    "pycharm": {
     "name": "#%%\n"
    }
   }
  },
  {
   "cell_type": "markdown",
   "source": [
    "### 贪婪与非贪婪\n",
    "\n",
    "使用通用匹配`.*`匹配到的内容有时候不是我们想要的结果，请看下面例子："
   ],
   "metadata": {
    "collapsed": false
   }
  },
  {
   "cell_type": "code",
   "execution_count": 19,
   "outputs": [
    {
     "name": "stdout",
     "output_type": "stream",
     "text": [
      "<re.Match object; span=(0, 40), match='Hello 1234567 World_This is a Regex Demo'>\n",
      "7\n"
     ]
    }
   ],
   "source": [
    "import re\n",
    "\n",
    "content = 'Hello 1234567 World_This is a Regex Demo'\n",
    "result = re.match('^He.*(\\d+).*Demo$', content)\n",
    "print(result)\n",
    "print(result.group(1))"
   ],
   "metadata": {
    "collapsed": false,
    "pycharm": {
     "name": "#%%\n"
    }
   }
  },
  {
   "cell_type": "markdown",
   "source": [
    "为什么只得到了7这个数字？这里涉及到贪婪匹配和非贪婪匹配的问题。在贪婪匹配下，`.*`会匹配尽可能多的字符。正则表达式中的`.*`后面是`\\d+`，也就是至少一个数字，而且没指定具体几个数字，因此，`.*`会匹配尽可能多的字符，这里就把`123456`都匹配了，只给`\\d+`留下一个可满足条件的数字7，因此最后所得到的内容就只有数字7。\n",
    "\n",
    "其实这里只需要使用非贪婪匹配就好了，非贪婪匹配的写法是`.*?`，比通用匹配多了一个`?`。"
   ],
   "metadata": {
    "collapsed": false
   }
  },
  {
   "cell_type": "code",
   "execution_count": 2,
   "outputs": [
    {
     "name": "stdout",
     "output_type": "stream",
     "text": [
      "<class 're.Match'>\n",
      "<re.Match object; span=(0, 40), match='Hello 1234567 World_This is a Regex Demo'>\n",
      "1234567\n"
     ]
    }
   ],
   "source": [
    "import re\n",
    "\n",
    "content = 'Hello 1234567 World_This is a Regex Demo'\n",
    "result = re.match('^He.*?(\\d+).*Demo$', content)\n",
    "print(type(result))\n",
    "print(result)\n",
    "print(result.group(1))"
   ],
   "metadata": {
    "collapsed": false,
    "pycharm": {
     "name": "#%%\n"
    }
   }
  },
  {
   "cell_type": "markdown",
   "source": [
    "贪婪匹配是匹配尽可能多的字符，非贪婪匹配是匹配尽可能少的字符。\n",
    "\n",
    "所以说，在做匹配的时候，字符串中间尽量使用非贪婪匹配，以免出现匹配结果缺失的情况；如果匹配结果在字符串结尾，`.*?`可能匹配不到任何内容了，因为它会匹配尽可能少的字符。例如："
   ],
   "metadata": {
    "collapsed": false
   }
  },
  {
   "cell_type": "code",
   "execution_count": 6,
   "outputs": [
    {
     "name": "stdout",
     "output_type": "stream",
     "text": [
      "result1: \n",
      "result2: kEraCN\n"
     ]
    }
   ],
   "source": [
    "import re\n",
    "\n",
    "content = 'http://weibo.com/comment/kEraCN'\n",
    "result1 = re.match('http.*?comment/(.*?)', content)\n",
    "result2 = re.match('http.*?comment/(.*)', content)\n",
    "print('result1:', result1.group(1))\n",
    "print('result2:', result2.group(1))"
   ],
   "metadata": {
    "collapsed": false,
    "pycharm": {
     "name": "#%%\n"
    }
   }
  },
  {
   "cell_type": "markdown",
   "source": [
    "可以观察到，`.*?`没有匹配到任何结果，而`.*`则是尽可能多匹配内容，成功得到了匹配结果。我们这里分析一下，到`http://weibo.com/comment/`是括号前的匹配内容，而`.*?`匹配尽可能少，因此可以一个都不匹配，即直接断掉，无内容，另一种方法可以在结尾加上`$`行字符串结尾符号，这样`kEraCN`就不得不被`(.*?)`所匹配了。"
   ],
   "metadata": {
    "collapsed": false
   }
  },
  {
   "cell_type": "code",
   "execution_count": 7,
   "outputs": [
    {
     "name": "stdout",
     "output_type": "stream",
     "text": [
      "result1: \n",
      "result2: kEraCN\n"
     ]
    }
   ],
   "source": [
    "import re\n",
    "\n",
    "content = 'http://weibo.com/comment/kEraCN'\n",
    "result1 = re.match('http.*?comment/(.*?)', content)\n",
    "result2 = re.match('http.*?comment/(.*?)$', content)\n",
    "print('result1:', result1.group(1))\n",
    "print('result2:', result2.group(1))"
   ],
   "metadata": {
    "collapsed": false,
    "pycharm": {
     "name": "#%%\n"
    }
   }
  },
  {
   "cell_type": "markdown",
   "source": [
    "### 修饰符\n",
    "\n",
    "在正则表达式中，可以用一些可选标志修饰符来控制匹配的模式。"
   ],
   "metadata": {
    "collapsed": false
   }
  },
  {
   "cell_type": "code",
   "execution_count": 12,
   "outputs": [
    {
     "ename": "AttributeError",
     "evalue": "'NoneType' object has no attribute 'group'",
     "output_type": "error",
     "traceback": [
      "\u001B[0;31m---------------------------------------------------------------------------\u001B[0m",
      "\u001B[0;31mAttributeError\u001B[0m                            Traceback (most recent call last)",
      "\u001B[0;32m/var/folders/px/c1nq2cy57n3d3bh0t3520qtr0000gn/T/ipykernel_23716/769096314.py\u001B[0m in \u001B[0;36m<module>\u001B[0;34m\u001B[0m\n\u001B[1;32m      5\u001B[0m '''\n\u001B[1;32m      6\u001B[0m \u001B[0mresult\u001B[0m \u001B[0;34m=\u001B[0m \u001B[0mre\u001B[0m\u001B[0;34m.\u001B[0m\u001B[0mmatch\u001B[0m\u001B[0;34m(\u001B[0m\u001B[0;34m'^He.*?(\\d+).*?Demo$'\u001B[0m\u001B[0;34m,\u001B[0m \u001B[0mcontent\u001B[0m\u001B[0;34m)\u001B[0m\u001B[0;34m\u001B[0m\u001B[0;34m\u001B[0m\u001B[0m\n\u001B[0;32m----> 7\u001B[0;31m \u001B[0mprint\u001B[0m\u001B[0;34m(\u001B[0m\u001B[0mresult\u001B[0m\u001B[0;34m.\u001B[0m\u001B[0mgroup\u001B[0m\u001B[0;34m(\u001B[0m\u001B[0;36m1\u001B[0m\u001B[0;34m)\u001B[0m\u001B[0;34m)\u001B[0m\u001B[0;34m\u001B[0m\u001B[0;34m\u001B[0m\u001B[0m\n\u001B[0m",
      "\u001B[0;31mAttributeError\u001B[0m: 'NoneType' object has no attribute 'group'"
     ]
    }
   ],
   "source": [
    "import re\n",
    "\n",
    "content = '''Hello 1234567 World_This\n",
    "is a Regex Demo\n",
    "'''\n",
    "result = re.match('^He.*?(\\d+).*?Demo$', content)\n",
    "print(result.group(1))"
   ],
   "metadata": {
    "collapsed": false,
    "pycharm": {
     "name": "#%%\n"
    }
   }
  },
  {
   "cell_type": "markdown",
   "source": [
    "发现运行直接报错，也就是说正则表达式没有匹配到这个字符串，返回结果为`None`，我们又调用了`group`方法，导致`AttributeError`。\n",
    "\n",
    "那么，为什么加了一个换行符，就匹配不到了呢？因为`.`匹配的是除了换行符的任意字符，所以导致匹配失败。这里只需要加一个修饰符`re.S`，即可修正这个错误。这个修饰符的作用是使匹配内容包括换行符在内的所有字符。\n",
    "\n",
    "这个`re.S`在网页匹配中经常用到，因为HTML节点经常会有换行，加上它，就可以匹配节点与节点之间的换行了"
   ],
   "metadata": {
    "collapsed": false
   }
  },
  {
   "cell_type": "code",
   "execution_count": 13,
   "outputs": [
    {
     "name": "stdout",
     "output_type": "stream",
     "text": [
      "1234567\n"
     ]
    }
   ],
   "source": [
    "import re\n",
    "\n",
    "content = '''Hello 1234567 World_This\n",
    "is a Regex Demo\n",
    "'''\n",
    "result = re.match('^He.*?(\\d+).*?Demo$', content, re.S)\n",
    "print(result.group(1))"
   ],
   "metadata": {
    "collapsed": false,
    "pycharm": {
     "name": "#%%\n"
    }
   }
  },
  {
   "cell_type": "markdown",
   "source": [
    "还有一些修饰符：\n",
    "\n",
    "| 修饰符 | 描述 |\n",
    "|---|---|\n",
    "| `re.I` | 大小写不敏感 |\n",
    "| `re.L` | 本地化识别（locale-aware）匹配 |\n",
    "| `re.M` | 多行匹配，影响`^`和`$` |\n",
    "| `re.S` | 使匹配内容包括换行符在内的所有字符 |\n",
    "| `re.U` | 根据Unicode字符集解析字符，会影响`\\w`、`\\W`、`\\b`和`\\B` |\n",
    "| `re.X` | 给予更灵活的格式，更易于理解 |\n",
    "\n",
    "在网页匹配中，较为常用的有包括换行符`re.S`和大小写不敏感`re.I`\n",
    "\n",
    "### 转义匹配\n",
    "\n",
    "我们知道正则表达式定义了许多匹配模式，如`.`用于匹配除换行符以外的任意字符。但如果目标字符中有`.`，这时候就需要用到转义匹配了。\n",
    "\n",
    "当在目标字符串中遇到用作正则匹配模式的特殊字符时，在此字符前面加`\\`转义一下即可。"
   ],
   "metadata": {
    "collapsed": false,
    "pycharm": {
     "name": "#%% md\n"
    }
   }
  },
  {
   "cell_type": "code",
   "execution_count": 20,
   "outputs": [
    {
     "name": "stdout",
     "output_type": "stream",
     "text": [
      "None\n"
     ]
    }
   ],
   "source": [
    "import re\n",
    "\n",
    "content = '(百度)www.baidu.com'\n",
    "result = re.match('(百度)www.baidu.com', content)\n",
    "print(result)"
   ],
   "metadata": {
    "collapsed": false,
    "pycharm": {
     "name": "#%%\n"
    }
   }
  },
  {
   "cell_type": "code",
   "execution_count": 21,
   "outputs": [
    {
     "name": "stdout",
     "output_type": "stream",
     "text": [
      "<re.Match object; span=(0, 17), match='(百度)www.baidu.com'>\n"
     ]
    }
   ],
   "source": [
    "import re\n",
    "\n",
    "content = '(百度)www.baidu.com'\n",
    "result = re.match('\\(百度\\)www\\.baidu\\.com', content)\n",
    "print(result)"
   ],
   "metadata": {
    "collapsed": false,
    "pycharm": {
     "name": "#%%\n"
    }
   }
  },
  {
   "cell_type": "markdown",
   "source": [
    "## 3.search\n",
    "\n",
    "`match`方法是从字符串的开头开始匹配的，意味着一旦开头不匹配，整个匹配就失败了。因为`match`方法在使用时需要考虑目标字符串开头的内容，因此在做匹配的时候并不方便。`match`更适合检测某个字符串是否符合某个正则表达式的规则。"
   ],
   "metadata": {
    "collapsed": false
   }
  },
  {
   "cell_type": "code",
   "execution_count": 27,
   "outputs": [
    {
     "name": "stdout",
     "output_type": "stream",
     "text": [
      "None\n"
     ]
    }
   ],
   "source": [
    "import re\n",
    "\n",
    "content = 'Extra stings Hello 1234567 World_This is a Regex Demo Extra      stings'\n",
    "result = re.match('Hello.*?(\\d+).*?Demo', content)\n",
    "print(result)"
   ],
   "metadata": {
    "collapsed": false,
    "pycharm": {
     "name": "#%%\n"
    }
   }
  },
  {
   "cell_type": "markdown",
   "source": [
    "这里有另一个方法`search`，它在匹配时会扫描整个字符串，然后返回第一个匹配成功的结果。因此，为了匹配方便，尽量使用`search`方法"
   ],
   "metadata": {
    "collapsed": false
   }
  },
  {
   "cell_type": "code",
   "execution_count": 1,
   "outputs": [
    {
     "name": "stdout",
     "output_type": "stream",
     "text": [
      "<re.Match object; span=(13, 53), match='Hello 1234567 World_This is a Regex Demo'>\n",
      "1234567\n"
     ]
    }
   ],
   "source": [
    "import re\n",
    "\n",
    "content = 'Extra stings Hello 1234567 World_This is a Regex Demo Extra      stings'\n",
    "result = re.search('Hello.*?(\\d+).*?Demo', content)\n",
    "print(result)\n",
    "print(result.group(1))"
   ],
   "metadata": {
    "collapsed": false,
    "pycharm": {
     "name": "#%%\n"
    }
   }
  },
  {
   "cell_type": "markdown",
   "source": [
    "尝试提取出`class`为`active`的li节点内部的歌手名与歌名"
   ],
   "metadata": {
    "collapsed": false,
    "pycharm": {
     "name": "#%% md\n"
    }
   }
  },
  {
   "cell_type": "code",
   "execution_count": 5,
   "outputs": [
    {
     "name": "stdout",
     "output_type": "stream",
     "text": [
      "齐秦 往事随风\n"
     ]
    }
   ],
   "source": [
    "import re\n",
    "\n",
    "html = '''<div id=\"songs-list\">\n",
    "<h2 class=\"title\">经典老歌</h2>\n",
    "<p class=\"introduction\">\n",
    "经典老歌列表\n",
    "</p>\n",
    "<ul id=\"list\" class=\"list-group\">\n",
    "<li data-view=\"2\">一路上有你</li>\n",
    "<li data-view=\"7\">\n",
    "<a href=\"/2.mp3\" singer=\"任贤齐\">沧海一声笑</a>\n",
    "</li>\n",
    "<li data-view=\"4\" class=\"active\">\n",
    "<a href=\"/3.mp3\" singer=\"齐秦\">往事随风</a>\n",
    "</li>\n",
    "<li data-view=\"6\"><a href=\"/4.mp3\" singer=\"beyond\">光辉岁月</a></li>\n",
    "<li data-view=\"5\"><a href=\"/5.mp3\" singer=\"陈慧琳\">记事本</a></li>\n",
    "<li data-view=\"5\">\n",
    "<a href=\"/6.mp3\" singer=\"邓丽君\">但愿人长久</a>\n",
    "</li>\n",
    "</ul>\n",
    "</div>'''\n",
    "result = re.search('<li.*?active.*?singer=\"(.*?)\">(.*?)</a>', html, re.S)\n",
    "print(result.group(1), result.group(2))"
   ],
   "metadata": {
    "collapsed": false,
    "pycharm": {
     "name": "#%%\n"
    }
   }
  },
  {
   "cell_type": "markdown",
   "source": [
    "如果正则表达式不加`active`，会怎么样呢？"
   ],
   "metadata": {
    "collapsed": false
   }
  },
  {
   "cell_type": "code",
   "execution_count": 12,
   "outputs": [
    {
     "name": "stdout",
     "output_type": "stream",
     "text": [
      "任贤齐 沧海一声笑\n"
     ]
    }
   ],
   "source": [
    "import re\n",
    "\n",
    "html = '''<div id=\"songs-list\">\n",
    "<h2 class=\"title\">经典老歌</h2>\n",
    "<p class=\"introduction\">\n",
    "经典老歌列表\n",
    "</p>\n",
    "<ul id=\"list\" class=\"list-group\">\n",
    "<li data-view=\"2\">一路上有你</li>\n",
    "<li data-view=\"7\">\n",
    "<a href=\"/2.mp3\" singer=\"任贤齐\">沧海一声笑</a>\n",
    "</li>\n",
    "<li data-view=\"4\" class=\"active\">\n",
    "<a href=\"/3.mp3\" singer=\"齐秦\">往事随风</a>\n",
    "</li>\n",
    "<li data-view=\"6\"><a href=\"/4.mp3\" singer=\"beyond\">光辉岁月</a></li>\n",
    "<li data-view=\"5\"><a href=\"/5.mp3\" singer=\"陈慧琳\">记事本</a></li>\n",
    "<li data-view=\"5\">\n",
    "<a href=\"/6.mp3\" singer=\"邓丽君\">但愿人长久</a>\n",
    "</li>\n",
    "</ul>\n",
    "</div>'''\n",
    "result = re.search('<li.*?singer=\"(.*?)\">(.*?)</a>', html, re.S)\n",
    "print(result.group(1), result.group(2))"
   ],
   "metadata": {
    "collapsed": false,
    "pycharm": {
     "name": "#%%\n"
    }
   }
  },
  {
   "cell_type": "markdown",
   "source": [
    "去掉`active`标签后，只会匹配第一个符合项。\n",
    "如果把换行匹配去掉，会怎么样？"
   ],
   "metadata": {
    "collapsed": false,
    "pycharm": {
     "name": "#%% md\n"
    }
   }
  },
  {
   "cell_type": "code",
   "execution_count": 1,
   "outputs": [
    {
     "name": "stdout",
     "output_type": "stream",
     "text": [
      "<class 're.Match'>\n",
      "beyond 光辉岁月\n"
     ]
    }
   ],
   "source": [
    "import re\n",
    "\n",
    "html = '''<div id=\"songs-list\">\n",
    "<h2 class=\"title\">经典老歌</h2>\n",
    "<p class=\"introduction\">\n",
    "经典老歌列表\n",
    "</p>\n",
    "<ul id=\"list\" class=\"list-group\">\n",
    "<li data-view=\"2\">一路上有你</li>\n",
    "<li data-view=\"7\">\n",
    "<a href=\"/2.mp3\" singer=\"任贤齐\">沧海一声笑</a>\n",
    "</li>\n",
    "<li data-view=\"4\" class=\"active\">\n",
    "<a href=\"/3.mp3\" singer=\"齐秦\">往事随风</a>\n",
    "</li>\n",
    "<li data-view=\"6\"><a href=\"/4.mp3\" singer=\"beyond\">光辉岁月</a></li>\n",
    "<li data-view=\"5\"><a href=\"/5.mp3\" singer=\"陈慧琳\">记事本</a></li>\n",
    "<li data-view=\"5\">\n",
    "<a href=\"/6.mp3\" singer=\"邓丽君\">但愿人长久</a>\n",
    "</li>\n",
    "</ul>\n",
    "</div>'''\n",
    "result = re.search('<li.*?singer=\"(.*?)\">(.*?)</a>', html)\n",
    "print(type(result))\n",
    "print(result.group(1), result.group(2))"
   ],
   "metadata": {
    "collapsed": false,
    "pycharm": {
     "name": "#%%\n"
    }
   }
  },
  {
   "cell_type": "markdown",
   "source": [
    "由于绝大部份HTML文本包含换行符，所以尽量加上`re.S`修饰符，以免出现匹配不到的问题。\n",
    "\n",
    "## 4.findall\n",
    "\n",
    "`search`方法可以返回匹配的第一个字符串，如果需要获取所有匹配结果，就需要用到`findall`"
   ],
   "metadata": {
    "collapsed": false
   }
  },
  {
   "cell_type": "code",
   "execution_count": 18,
   "outputs": [
    {
     "name": "stdout",
     "output_type": "stream",
     "text": [
      "<class 'list'>\n",
      "<class 'tuple'>\n",
      "('2', '任贤齐', '沧海一声笑')\n",
      "('3', '齐秦', '往事随风')\n",
      "('4', 'beyond', '光辉岁月')\n",
      "('5', '陈慧琳', '记事本')\n",
      "('6', '邓丽君', '但愿人长久')\n"
     ]
    }
   ],
   "source": [
    "import re\n",
    "\n",
    "html = '''<div id=\"songs-list\">\n",
    "<h2 class=\"title\">经典老歌</h2>\n",
    "<p class=\"introduction\">\n",
    "经典老歌列表\n",
    "</p>\n",
    "<ul id=\"list\" class=\"list-group\">\n",
    "<li data-view=\"2\">一路上有你</li>\n",
    "<li data-view=\"7\">\n",
    "<a href=\"/2.mp3\" singer=\"任贤齐\">沧海一声笑</a>\n",
    "</li>\n",
    "<li data-view=\"4\" class=\"active\">\n",
    "<a href=\"/3.mp3\" singer=\"齐秦\">往事随风</a>\n",
    "</li>\n",
    "<li data-view=\"6\"><a href=\"/4.mp3\" singer=\"beyond\">光辉岁月</a></li>\n",
    "<li data-view=\"5\"><a href=\"/5.mp3\" singer=\"陈慧琳\">记事本</a></li>\n",
    "<li data-view=\"5\">\n",
    "<a href=\"/6.mp3\" singer=\"邓丽君\">但愿人长久</a>\n",
    "</li>\n",
    "</ul>\n",
    "</div>'''\n",
    "results = re.findall('<li.*?href=\"/(\\d+)\\.mp3\"\\ssinger=\"(.*?)\">(.*?)</a>', html, re.S)\n",
    "# print(results)\n",
    "print(type(results))\n",
    "print(type(results[0]))\n",
    "for each in results:\n",
    "    # print(each[0], each[1], each[2])\n",
    "    print(each)"
   ],
   "metadata": {
    "collapsed": false,
    "pycharm": {
     "name": "#%%\n"
    }
   }
  },
  {
   "cell_type": "code",
   "execution_count": 47,
   "outputs": [
    {
     "name": "stdout",
     "output_type": "stream",
     "text": [
      "<class 're.Match'>\n",
      "123 456\n",
      "123 456\n",
      "<class 're.Match'>\n",
      "123 456\n",
      "123 456\n",
      "<class 'list'>\n",
      "[('123', '456')]\n",
      "<class 'tuple'>\n",
      "('123', '456')\n",
      "123 456\n"
     ]
    }
   ],
   "source": [
    "import re\n",
    "\n",
    "string = 'abc123efg456hij'\n",
    "\n",
    "result1 = re.match('\\w*?(\\d+)\\w*?(\\d+)', string)\n",
    "print(type(result1))\n",
    "print(result1[1], result1[2])\n",
    "print(result1.group(1), result1.group(2))\n",
    "\n",
    "result2 = re.search('\\w*?(\\d+)\\w*?(\\d+)', string)\n",
    "print(type(result2))\n",
    "print(result2[1], result2[2])\n",
    "print(result2.group(1), result2.group(2))\n",
    "\n",
    "result3 = re.findall('\\w*?(\\d+)\\w*?(\\d+)', string)\n",
    "# print(result3.group(1), result3.group(2))     # 无此方法\n",
    "print(type(result3))\n",
    "print(result3)\n",
    "print(type(result3[0]))\n",
    "print(result3[0])\n",
    "print(result3[0][0], result3[0][1])"
   ],
   "metadata": {
    "collapsed": false,
    "pycharm": {
     "name": "#%%\n"
    }
   }
  },
  {
   "cell_type": "markdown",
   "source": [
    "可以看到，返回的列表中的每个元素都是元组。\n",
    "总结一下，如果只想获取匹配到的第一个字符串，可以用`search`；如果需要提取多个内容，可以用`findall`方法。\n",
    "另外值得注意的一点是：`match`、`search`方法返回的是`Match`类，可以通过`group`或者类似数组下标的方式获取到；而`findall`方法返回的是元祖列表，只可以通过下标的方式访问到，没有`group`方法。\n",
    "\n",
    "## 5.sub\n",
    "\n",
    "除了使用正则表达式提取信息，有时候还需要借助它来修改文本。例如把遗传文本中的所有数字都去掉，如果只用字符串的`replace`方法，未免太繁琐了，这是就可以借助`sub`方法。"
   ],
   "metadata": {
    "collapsed": false
   }
  },
  {
   "cell_type": "code",
   "execution_count": 1,
   "outputs": [
    {
     "name": "stdout",
     "output_type": "stream",
     "text": [
      "abcdefgh\n"
     ]
    }
   ],
   "source": [
    "import re\n",
    "\n",
    "content = '12a23bc78d676e7f9gh'\n",
    "content = re.sub('\\d+', '', content)\n",
    "print(content)"
   ],
   "metadata": {
    "collapsed": false,
    "pycharm": {
     "name": "#%%\n"
    }
   }
  },
  {
   "cell_type": "markdown",
   "source": [
    "在上面的HTML文本中，如果想获取所有`li`节点的歌曲，直接用正则表达式来提取可能比较麻烦"
   ],
   "metadata": {
    "collapsed": false
   }
  },
  {
   "cell_type": "code",
   "execution_count": 63,
   "outputs": [
    {
     "name": "stdout",
     "output_type": "stream",
     "text": [
      "一路上有你\n",
      "沧海一声笑\n",
      "往事随风\n",
      "光辉岁月\n",
      "记事本\n",
      "但愿人长久\n"
     ]
    }
   ],
   "source": [
    "import re\n",
    "\n",
    "html = '''<div id=\"songs-list\">\n",
    "<h2 class=\"title\">经典老歌</h2>\n",
    "<p class=\"introduction\">\n",
    "经典老歌列表\n",
    "</p>\n",
    "<ul id=\"list\" class=\"list-group\">\n",
    "<li data-view=\"2\">一路上有你</li>\n",
    "<li data-view=\"7\">\n",
    "<a href=\"/2.mp3\" singer=\"任贤齐\">沧海一声笑</a>\n",
    "</li>\n",
    "<li data-view=\"4\" class=\"active\">\n",
    "<a href=\"/3.mp3\" singer=\"齐秦\">往事随风</a>\n",
    "</li>\n",
    "<li data-view=\"6\"><a href=\"/4.mp3\" singer=\"beyond\">光辉岁月</a></li>\n",
    "<li data-view=\"5\"><a href=\"/5.mp3\" singer=\"陈慧琳\">记事本</a></li>\n",
    "<li data-view=\"5\">\n",
    "<a href=\"/6.mp3\" singer=\"邓丽君\">但愿人长久</a>\n",
    "</li>\n",
    "</ul>\n",
    "</div>'''\n",
    "# results = re.findall('<li.*?>(.*?)</li>', html, re.S)\n",
    "# results = re.findall('<li.*?>\\s*?(<a.*?>)*(\\w+)(</a>)*\\s*?</li>', html, re.S)\n",
    "results = re.findall('<li.*?>\\s*?(<a.*?>)?(\\w+)(</a>)?\\s*?</li>', html, re.S)\n",
    "for result in results:\n",
    "    print(result[1])"
   ],
   "metadata": {
    "collapsed": false,
    "pycharm": {
     "name": "#%%\n"
    }
   }
  },
  {
   "cell_type": "markdown",
   "source": [
    "可以见到，匹配的过程非常地繁琐，而且非常容易出错。而此时借助`sub`方法就比较简单了。可以先用sub方法将a节点去掉，只留下文本，然后再利用`findall`提取就好了："
   ],
   "metadata": {
    "collapsed": false
   }
  },
  {
   "cell_type": "code",
   "execution_count": 72,
   "outputs": [
    {
     "name": "stdout",
     "output_type": "stream",
     "text": [
      "<div id=\"songs-list\">\n",
      "<h2 class=\"title\">经典老歌</h2>\n",
      "<p class=\"introduction\">\n",
      "经典老歌列表\n",
      "</p>\n",
      "<ul id=\"list\" class=\"list-group\">\n",
      "<li data-view=\"2\">一路上有你</li>\n",
      "<li data-view=\"7\">\n",
      "沧海一声笑\n",
      "</li>\n",
      "<li data-view=\"4\" class=\"active\">\n",
      "往事随风\n",
      "</li>\n",
      "<li data-view=\"6\">光辉岁月</li>\n",
      "<li data-view=\"5\">记事本</li>\n",
      "<li data-view=\"5\">\n",
      "但愿人长久\n",
      "</li>\n",
      "</ul>\n",
      "</div>\n",
      "['一路上有你', '\\n沧海一声笑\\n', '\\n往事随风\\n', '光辉岁月', '记事本', '\\n但愿人长久\\n']\n",
      "一路上有你\n",
      "沧海一声笑\n",
      "往事随风\n",
      "光辉岁月\n",
      "记事本\n",
      "但愿人长久\n"
     ]
    }
   ],
   "source": [
    "import re\n",
    "\n",
    "html = '''<div id=\"songs-list\">\n",
    "<h2 class=\"title\">经典老歌</h2>\n",
    "<p class=\"introduction\">\n",
    "经典老歌列表\n",
    "</p>\n",
    "<ul id=\"list\" class=\"list-group\">\n",
    "<li data-view=\"2\">一路上有你</li>\n",
    "<li data-view=\"7\">\n",
    "<a href=\"/2.mp3\" singer=\"任贤齐\">沧海一声笑</a>\n",
    "</li>\n",
    "<li data-view=\"4\" class=\"active\">\n",
    "<a href=\"/3.mp3\" singer=\"齐秦\">往事随风</a>\n",
    "</li>\n",
    "<li data-view=\"6\"><a href=\"/4.mp3\" singer=\"beyond\">光辉岁月</a></li>\n",
    "<li data-view=\"5\"><a href=\"/5.mp3\" singer=\"陈慧琳\">记事本</a></li>\n",
    "<li data-view=\"5\">\n",
    "<a href=\"/6.mp3\" singer=\"邓丽君\">但愿人长久</a>\n",
    "</li>\n",
    "</ul>\n",
    "</div>'''\n",
    "\n",
    "html = re.sub('<a.*?>|</a>', '', html)\n",
    "print(html)\n",
    "results = re.findall('<li.*?>(.*?)</li>', html, re.S)\n",
    "print(results)\n",
    "for result in results:\n",
    "    print(result.strip())"
   ],
   "metadata": {
    "collapsed": false,
    "pycharm": {
     "name": "#%%\n"
    }
   }
  },
  {
   "cell_type": "markdown",
   "source": [
    "`strip`方法用于移除字符串头尾指定的字符（默认为空格或换行符）。\n",
    "\n",
    "可以看到，经过`sub`方法处理后，a节点就没有了，然后通过`findall`方法直接提取即可。可以发现，在适当的时候借助`sub`方法，可以起到事半功倍的效果。\n",
    "\n",
    "## 6.compile\n",
    "\n",
    "前面所讲的方法都是用来处理字符串的方法，最后再介绍一下`compile`方法，这个方法可以将正则字符串编译成正则表达式对象，以便在以后的匹配中复用。"
   ],
   "metadata": {
    "collapsed": false
   }
  },
  {
   "cell_type": "code",
   "execution_count": 73,
   "outputs": [
    {
     "name": "stdout",
     "output_type": "stream",
     "text": [
      "2019-12-15  2019-12-17  2019-12-22 \n"
     ]
    }
   ],
   "source": [
    "import re\n",
    "\n",
    "content1 = '2019-12-15 12:00'\n",
    "content2 = '2019-12-17 12:55'\n",
    "content3 = '2019-12-22 13:21'\n",
    "\n",
    "pattern = re.compile('\\d{2}:\\d{2}')\n",
    "result1 = re.sub(pattern, '', content1)\n",
    "result2 = re.sub(pattern, '', content2)\n",
    "result3 = re.sub(pattern, '', content3)\n",
    "print(result1, result2, result3)"
   ],
   "metadata": {
    "collapsed": false,
    "pycharm": {
     "name": "#%%\n"
    }
   }
  },
  {
   "cell_type": "markdown",
   "source": [
    "`{2}`的意思是匹配两次前面表达式，就是时间，用`sub`方法便可去掉时间。\n",
    "\n",
    "这里没必要重复写3个同样的正则表达式，此时就可以借助`compile`方法将正则表达式编译成一个正则表达式对象，以便复用\n",
    "\n",
    "另外，`compile`方法还可以传入修饰符，例如`re.S`等，这样在`search`、`findall`等方法中就不需要额外传了。所以，可以说`compile`方法是给正则表达式做了一层封装，以便我们更好地复用。"
   ],
   "metadata": {
    "collapsed": false
   }
  }
 ],
 "metadata": {
  "kernelspec": {
   "display_name": "Python 3 (ipykernel)",
   "language": "python",
   "name": "python3"
  },
  "language_info": {
   "codemirror_mode": {
    "name": "ipython",
    "version": 3
   },
   "file_extension": ".py",
   "mimetype": "text/x-python",
   "name": "python",
   "nbconvert_exporter": "python",
   "pygments_lexer": "ipython3",
   "version": "3.10.0"
  }
 },
 "nbformat": 4,
 "nbformat_minor": 1
}